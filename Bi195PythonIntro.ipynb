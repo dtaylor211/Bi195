{
  "nbformat": 4,
  "nbformat_minor": 0,
  "metadata": {
    "colab": {
      "provenance": [],
      "collapsed_sections": []
    },
    "kernelspec": {
      "name": "python3",
      "display_name": "Python 3"
    },
    "language_info": {
      "name": "python"
    }
  },
  "cells": [
    {
      "cell_type": "markdown",
      "source": [
        "#Bi 195 - Python Introduction\n",
        "Hi everyone! Here is a simple and quick starter to Python, Google Colab, and some of the libraries used for Bi 195."
      ],
      "metadata": {
        "id": "jiDphuQaTwPb"
      }
    },
    {
      "cell_type": "markdown",
      "source": [
        "We'll start by explaining how to use Google Colab (if you're not using Colab, we highly recommend you do).  This here is a text cell.  If you double click on the text, it will open into edit mode!  You can write whatever you want in the box and see what will actually be visible on the right.\n",
        "\n",
        "You can also add special characters to make titles and other fun things.\n",
        "\n",
        "#I am a big title - big titles make sections\n",
        "##I am a medium title\n",
        "###I am a small title... and so on\n",
        "\n",
        "You can add \\*\\* to make things **bold** and just one \\* to make things *italicised*.  There are a bunch of other cool things you do, and you can find more documentation [here](https://colab.research.google.com/notebooks/markdown_guide.ipynb).\n",
        "\n",
        "If you want to neatly separate your sections you can add a horizontal bar to any block of text by doing:\n",
        "\n",
        "---"
      ],
      "metadata": {
        "id": "9jxV5S4lUOTF"
      }
    },
    {
      "cell_type": "markdown",
      "source": [
        "#Basic Python"
      ],
      "metadata": {
        "id": "V_VnglAsaIae"
      }
    },
    {
      "cell_type": "code",
      "source": [
        "# You can also make code boxes!  The code running in here is Python 3.7.  \n",
        "# To run a cell, press on the white play icon in the top left corner of the cell.\n",
        "\n",
        "# Let's walk through some REALLY basic Python programming\n",
        "\n",
        "# This is a comment, as I have added a # sign at the front of the line\n",
        "\n",
        "'''\n",
        "This is a comment, too!\n",
        "I have just added three single quotes to the beginning and end of the comment block\n",
        "\n",
        "And I can go over multiple lines\n",
        "and add code that isn't evaluated\n",
        "x = 23\n",
        "'''\n",
        "\n",
        "# You can comment and uncomment large chunks of code by highlighting them and then pressing\n",
        "# \"CMD\" + \"/\" on Mac\n",
        "# \"control\" + \"/\" on Windows\n",
        "\n",
        "# You set variables like this\n",
        "variable = 2 # integer\n",
        "v = [1,2,3] # array of integers\n",
        "\n",
        "# And you can print your variables to the notebook in two ways:\n",
        "# 1 - a print statement\n",
        "print(variable, v)\n",
        "\n",
        "# 2 - call them in the last line of a code cell\n",
        "v = 'variable'\n",
        "variable, v"
      ],
      "metadata": {
        "colab": {
          "base_uri": "https://localhost:8080/"
        },
        "id": "5G1FsC8OVkuw",
        "outputId": "d5b78ce6-4655-457d-9bab-f0cdc106d18a"
      },
      "execution_count": 1,
      "outputs": [
        {
          "output_type": "stream",
          "name": "stdout",
          "text": [
            "2 [1, 2, 3]\n"
          ]
        },
        {
          "output_type": "execute_result",
          "data": {
            "text/plain": [
              "(2, 'variable')"
            ]
          },
          "metadata": {},
          "execution_count": 1
        }
      ]
    },
    {
      "cell_type": "code",
      "source": [
        "# For Bi195 we will commonly use the numpy (https://numpy.org/doc/stable/user/index.html) \n",
        "# and maptlotlib pyplot (https://matplotlib.org/3.5.1/api/_as_gen/matplotlib.pyplot.html) libraries.  \n",
        "\n",
        "# You access these libraries by adding these import statements to your file:  \n",
        "# Usually they go at the very top of your file.\n",
        "\n",
        "import numpy as np\n",
        "import matplotlib.pyplot as plt"
      ],
      "metadata": {
        "id": "dmzLqeYBbQQU"
      },
      "execution_count": 2,
      "outputs": []
    },
    {
      "cell_type": "code",
      "source": [
        "# Let's walk through some examples\n",
        "\n",
        "# First we can look at the example code from the coin flip example.  \n",
        "# Here we are finding the height and angular position of a rotating object thrown in the air\n",
        "\n",
        "# We begin by initializing two arrays to keep track of y and theta.\n",
        "coiny = []\n",
        "cointheta = []\n",
        "\n",
        "# We can also intialize some variables for the initial velocity and angular velocity\n",
        "v0 = 50\n",
        "w0 = .1\n",
        "\n",
        "# We can then loop through 100 'seconds'\n",
        "for t in range(100):\n",
        "    # And for each iteration, we want to add the current height\n",
        "    coiny.append(-t**2/2 + v0*t)\n",
        "    # and velocity to our arrays\n",
        "    cointheta.append(np.cos(w0*t))\n",
        "\n",
        "print(f'coiny array: {coiny}') # This is a f-interpolated string, where we can plug in variables using {}\n",
        "print(f'cointheta array: {cointheta}\\n')\n",
        "\n",
        "# We can also do the same using list comprehension\n",
        "coinylc = [-t**2/2 + v0 * t for t in range(100)]\n",
        "cointhetalc = [np.cos(w0*t) for t in range(100)]\n",
        "\n",
        "# We can check if these arrays are equal visually by looking at print statements...\n",
        "print(f'coiny array using list comprehension: {coinylc}')\n",
        "print(f'cointheta array using list comprehension: {cointhetalc}')\n",
        "\n",
        "# ...or by using assert statements and/or booleans\n",
        "# In Python, we use == to check equality, and you can build logic statments by simply writing 'and' / 'or' / 'not'/ etc.\n",
        "assert(coiny == coinylc and cointheta == cointhetalc)\n",
        "truth = coiny == coinylc and cointheta == cointhetalc"
      ],
      "metadata": {
        "colab": {
          "base_uri": "https://localhost:8080/"
        },
        "id": "igVZpKc6ccE3",
        "outputId": "b79bec68-e6bf-4263-cacb-6d9b505ed273"
      },
      "execution_count": 3,
      "outputs": [
        {
          "output_type": "stream",
          "name": "stdout",
          "text": [
            "coiny array: [0.0, 49.5, 98.0, 145.5, 192.0, 237.5, 282.0, 325.5, 368.0, 409.5, 450.0, 489.5, 528.0, 565.5, 602.0, 637.5, 672.0, 705.5, 738.0, 769.5, 800.0, 829.5, 858.0, 885.5, 912.0, 937.5, 962.0, 985.5, 1008.0, 1029.5, 1050.0, 1069.5, 1088.0, 1105.5, 1122.0, 1137.5, 1152.0, 1165.5, 1178.0, 1189.5, 1200.0, 1209.5, 1218.0, 1225.5, 1232.0, 1237.5, 1242.0, 1245.5, 1248.0, 1249.5, 1250.0, 1249.5, 1248.0, 1245.5, 1242.0, 1237.5, 1232.0, 1225.5, 1218.0, 1209.5, 1200.0, 1189.5, 1178.0, 1165.5, 1152.0, 1137.5, 1122.0, 1105.5, 1088.0, 1069.5, 1050.0, 1029.5, 1008.0, 985.5, 962.0, 937.5, 912.0, 885.5, 858.0, 829.5, 800.0, 769.5, 738.0, 705.5, 672.0, 637.5, 602.0, 565.5, 528.0, 489.5, 450.0, 409.5, 368.0, 325.5, 282.0, 237.5, 192.0, 145.5, 98.0, 49.5]\n",
            "cointheta array: [1.0, 0.9950041652780258, 0.9800665778412416, 0.955336489125606, 0.9210609940028851, 0.8775825618903728, 0.8253356149096782, 0.7648421872844884, 0.6967067093471654, 0.6216099682706644, 0.5403023058681398, 0.4535961214255773, 0.3623577544766734, 0.26749882862458735, 0.16996714290024081, 0.0707372016677029, -0.029199522301288815, -0.12884449429552486, -0.2272020946930871, -0.3232895668635036, -0.4161468365471424, -0.5048461045998576, -0.5885011172553458, -0.6662760212798244, -0.7373937155412458, -0.8011436155469337, -0.8568887533689473, -0.9040721420170612, -0.9422223406686583, -0.9709581651495907, -0.9899924966004454, -0.9991351502732795, -0.9982947757947531, -0.9874797699088649, -0.9667981925794609, -0.9364566872907963, -0.896758416334147, -0.848100031710408, -0.7909677119144165, -0.7259323042001399, -0.6536436208636119, -0.5748239465332685, -0.4902608213406994, -0.40079917207997545, -0.30733286997841935, -0.2107957994307797, -0.11215252693505398, -0.01238866346289056, 0.08749898343944727, 0.18651236942257576, 0.28366218546322625, 0.37797774271298107, 0.4685166713003771, 0.5543743361791615, 0.6346928759426347, 0.70866977429126, 0.7755658785102502, 0.8347127848391598, 0.8855195169413194, 0.9274784307440359, 0.960170286650366, 0.9832684384425847, 0.9965420970232175, 0.9998586363834151, 0.9931849187581926, 0.9765876257280235, 0.9502325919585293, 0.9143831482353194, 0.8693974903498248, 0.8157251001253568, 0.7539022543433046, 0.6845466664428059, 0.6083513145322546, 0.5260775173811045, 0.43854732757439036, 0.3466353178350258, 0.25125984258225487, 0.15337386203786435, 0.05395542056264886, -0.04600212563953695, -0.14550003380861354, -0.2435441537357911, -0.33915486098383624, -0.4313768449706208, -0.5192886541166856, -0.6020119026848236, -0.6787200473200125, -0.7486466455973999, -0.811093014061656, -0.8654352092411123, -0.9111302618846769, -0.9477216021311119, -0.974843621404164, -0.9922253254526034, -0.9996930420352065, -0.9971721561963784, -0.9846878557941267, -0.9623648798313097, -0.9304262721047533, -0.8891911526253609]\n",
            "\n",
            "coiny array using list comprehension: [0.0, 49.5, 98.0, 145.5, 192.0, 237.5, 282.0, 325.5, 368.0, 409.5, 450.0, 489.5, 528.0, 565.5, 602.0, 637.5, 672.0, 705.5, 738.0, 769.5, 800.0, 829.5, 858.0, 885.5, 912.0, 937.5, 962.0, 985.5, 1008.0, 1029.5, 1050.0, 1069.5, 1088.0, 1105.5, 1122.0, 1137.5, 1152.0, 1165.5, 1178.0, 1189.5, 1200.0, 1209.5, 1218.0, 1225.5, 1232.0, 1237.5, 1242.0, 1245.5, 1248.0, 1249.5, 1250.0, 1249.5, 1248.0, 1245.5, 1242.0, 1237.5, 1232.0, 1225.5, 1218.0, 1209.5, 1200.0, 1189.5, 1178.0, 1165.5, 1152.0, 1137.5, 1122.0, 1105.5, 1088.0, 1069.5, 1050.0, 1029.5, 1008.0, 985.5, 962.0, 937.5, 912.0, 885.5, 858.0, 829.5, 800.0, 769.5, 738.0, 705.5, 672.0, 637.5, 602.0, 565.5, 528.0, 489.5, 450.0, 409.5, 368.0, 325.5, 282.0, 237.5, 192.0, 145.5, 98.0, 49.5]\n",
            "cointheta array using list comprehension: [1.0, 0.9950041652780258, 0.9800665778412416, 0.955336489125606, 0.9210609940028851, 0.8775825618903728, 0.8253356149096782, 0.7648421872844884, 0.6967067093471654, 0.6216099682706644, 0.5403023058681398, 0.4535961214255773, 0.3623577544766734, 0.26749882862458735, 0.16996714290024081, 0.0707372016677029, -0.029199522301288815, -0.12884449429552486, -0.2272020946930871, -0.3232895668635036, -0.4161468365471424, -0.5048461045998576, -0.5885011172553458, -0.6662760212798244, -0.7373937155412458, -0.8011436155469337, -0.8568887533689473, -0.9040721420170612, -0.9422223406686583, -0.9709581651495907, -0.9899924966004454, -0.9991351502732795, -0.9982947757947531, -0.9874797699088649, -0.9667981925794609, -0.9364566872907963, -0.896758416334147, -0.848100031710408, -0.7909677119144165, -0.7259323042001399, -0.6536436208636119, -0.5748239465332685, -0.4902608213406994, -0.40079917207997545, -0.30733286997841935, -0.2107957994307797, -0.11215252693505398, -0.01238866346289056, 0.08749898343944727, 0.18651236942257576, 0.28366218546322625, 0.37797774271298107, 0.4685166713003771, 0.5543743361791615, 0.6346928759426347, 0.70866977429126, 0.7755658785102502, 0.8347127848391598, 0.8855195169413194, 0.9274784307440359, 0.960170286650366, 0.9832684384425847, 0.9965420970232175, 0.9998586363834151, 0.9931849187581926, 0.9765876257280235, 0.9502325919585293, 0.9143831482353194, 0.8693974903498248, 0.8157251001253568, 0.7539022543433046, 0.6845466664428059, 0.6083513145322546, 0.5260775173811045, 0.43854732757439036, 0.3466353178350258, 0.25125984258225487, 0.15337386203786435, 0.05395542056264886, -0.04600212563953695, -0.14550003380861354, -0.2435441537357911, -0.33915486098383624, -0.4313768449706208, -0.5192886541166856, -0.6020119026848236, -0.6787200473200125, -0.7486466455973999, -0.811093014061656, -0.8654352092411123, -0.9111302618846769, -0.9477216021311119, -0.974843621404164, -0.9922253254526034, -0.9996930420352065, -0.9971721561963784, -0.9846878557941267, -0.9623648798313097, -0.9304262721047533, -0.8891911526253609]\n"
          ]
        }
      ]
    },
    {
      "cell_type": "code",
      "source": [
        "# But, be careful because assert statements throw an error and stop your code if they are not satisfied\n",
        "# Try uncommenting the line below and running this cell!\n",
        "# assert(coiny == cointheta)"
      ],
      "metadata": {
        "id": "kZpmgxGzabp-"
      },
      "execution_count": 4,
      "outputs": []
    },
    {
      "cell_type": "code",
      "source": [
        "# If you ever need to use something that throws an error, we recommend using a try/except statement:\n",
        "try:\n",
        "    assert(coiny == cointheta)\n",
        "except:\n",
        "    print(f'Uh oh! There was an error!')"
      ],
      "metadata": {
        "id": "wX9V4Ooba0ob",
        "colab": {
          "base_uri": "https://localhost:8080/"
        },
        "outputId": "140dfb22-4b49-427a-fc8e-5efa44de0fa8"
      },
      "execution_count": 5,
      "outputs": [
        {
          "output_type": "stream",
          "name": "stdout",
          "text": [
            "Uh oh! There was an error!\n"
          ]
        }
      ]
    },
    {
      "cell_type": "code",
      "source": [
        "# A very brief intro on function writing\n",
        "# You define a function like this:\n",
        "def myFunction(arg1, arg2, arg3):\n",
        "    mean = (arg1 + arg2 + arg3) / 3\n",
        "    return mean\n",
        "\n",
        "# And you can call your function like this:\n",
        "arg1 = 1\n",
        "arg2 = 2\n",
        "arg3 = 3\n",
        "mean1 = myFunction(arg1, arg2, arg3)\n",
        "mean2 = myFunction(4, 5, 6)\n",
        "print(f'mean1 = {mean1}, mean2 = {mean2}')"
      ],
      "metadata": {
        "colab": {
          "base_uri": "https://localhost:8080/"
        },
        "id": "wXNA-beE2fzS",
        "outputId": "64a13aaf-e994-4970-cc49-185847f2c6c6"
      },
      "execution_count": 6,
      "outputs": [
        {
          "output_type": "stream",
          "name": "stdout",
          "text": [
            "mean1 = 2.0, mean2 = 5.0\n"
          ]
        }
      ]
    },
    {
      "cell_type": "markdown",
      "source": [
        "# Matplotlib"
      ],
      "metadata": {
        "id": "o2UPRp1ceZTF"
      }
    },
    {
      "cell_type": "code",
      "source": [
        "# We now want to see what the data looks like!  Let's plot it\n",
        "# We create a figure and get its axes by calling on the subplots function of the plt library\n",
        "fig1, ax1 = plt.subplots()\n",
        "\n",
        "# We can now set the labels of the axes and plot the height\n",
        "ax1.set_xlabel('t')\n",
        "ax1.set_ylabel('y')\n",
        "ax1.plot(coiny)\n",
        "\n",
        "# And then ceeate a second figure to do the same for the theta\n",
        "fig2, ax2 = plt.subplots()\n",
        "plt.plot(cointheta)\n",
        "ax2.set_xlabel('t')\n",
        "ax2.set_ylabel('Cos(Wt)')\n",
        "\n",
        "plt.show() # This line isn't necessary. Try commenting it out and seeing what happens."
      ],
      "metadata": {
        "colab": {
          "base_uri": "https://localhost:8080/",
          "height": 541
        },
        "id": "iZgppU9ShYr5",
        "outputId": "ef1c6dee-7c90-4072-807a-c2179e9dac56"
      },
      "execution_count": 7,
      "outputs": [
        {
          "output_type": "display_data",
          "data": {
            "text/plain": [
              "<Figure size 432x288 with 1 Axes>"
            ],
            "image/png": "[encoded data removed]"
          },
          "metadata": {
            "needs_background": "light"
          }
        },
        {
          "output_type": "display_data",
          "data": {
            "text/plain": [
              "<Figure size 432x288 with 1 Axes>"
            ],
            "image/png": "[encoded data removed]"
          },
          "metadata": {
            "needs_background": "light"
          }
        }
      ]
    },
    {
      "cell_type": "markdown",
      "source": [
        "# Numpy"
      ],
      "metadata": {
        "id": "-BqbT8k1eeeH"
      }
    },
    {
      "cell_type": "code",
      "source": [
        "# Now, let's talk about Numpy (np). It makes quantitative calculation a lot easier\n",
        "\n",
        "# Say we want to make an array of values between 0 and 10 increasing by 0.5:\n",
        "arr = np.arange(0, 10, 0.5)\n",
        "print(f'Array: {arr}')\n",
        "\n",
        "# And then we want to find its mean and variance:\n",
        "mean = np.mean(arr)\n",
        "var = np.var(arr)\n",
        "print(f'Mean: {mean}\\nVar: {var}')\n",
        "\n",
        "# We can access individual elements in an array by indexing\n",
        "first_item = arr[0] # Remember Python uses 0-indexing\n",
        "fourth_item = arr[3] \n",
        "last_item = arr[-1]\n",
        "print(f'1st item: {mean}\\n4th item: {var}\\nLast item: {last_item}')"
      ],
      "metadata": {
        "colab": {
          "base_uri": "https://localhost:8080/"
        },
        "id": "QI-CA333ibgI",
        "outputId": "9626aaeb-38c0-475b-8bb2-63d96e56a169"
      },
      "execution_count": 8,
      "outputs": [
        {
          "output_type": "stream",
          "name": "stdout",
          "text": [
            "Array: [0.  0.5 1.  1.5 2.  2.5 3.  3.5 4.  4.5 5.  5.5 6.  6.5 7.  7.5 8.  8.5\n",
            " 9.  9.5]\n",
            "Mean: 4.75\n",
            "Var: 8.3125\n",
            "1st item: 4.75\n",
            "4th item: 8.3125\n",
            "Last item: 9.5\n"
          ]
        }
      ]
    },
    {
      "cell_type": "markdown",
      "source": [
        "# Step-by-step contour plot"
      ],
      "metadata": {
        "id": "ZAEpr_r4elho"
      }
    },
    {
      "cell_type": "code",
      "source": [
        "# For the last bit of code walkthrough, we'll more closely examine the coin flip example's contour plot\n",
        "\n",
        "# We first create arrays of values between 0 and 5 increasing by 0.01 or 0.02\n",
        "# These represent a distribution of initial angular and linear velocities\n",
        "v0 = np.arange(0, 5, .01)\n",
        "w0 = np.arange(0, 5, .02)\n",
        "\n",
        "# Let's take a look at the dimensions of these arrays:\n",
        "dimv0 = v0.shape\n",
        "dimw0 = w0.shape\n",
        "print(f'Dimensions of v0 array: {dimv0}\\nDimensions of w0 array: {dimw0}')\n",
        "print('A shape tuple (r, c) means we have r rows and c columns in our array')\n",
        "print('If there is no value for c, then it means we have a 1-dimensional array with r entries\\n')\n",
        "  \n",
        "# We then create a 2-D grid of features by using np.meshgrid\n",
        "# This gives us two arrays of dimension dimw0 x dimv0 (or 250 x 500) where\n",
        "# X has 250 rows where each row consists of the 500 entries from v0 and\n",
        "# Y has 500 columns where each column consists of the 250 entries from w0\n",
        "[X, Y] = np.meshgrid(v0, w0)\n",
        "dimx = X.shape\n",
        "dimy = Y.shape\n",
        "print(f'Dimensions of X array: {dimx}\\nDimensions of Y array: {dimy}')\n",
        "\n",
        "# This is just initializing our figure to only have 1 subplot\n",
        "fig, ax = plt.subplots(1, 1)\n",
        "  \n",
        "# We then create Z, which will determine the contour height at a specific coordinate (x, y) for all X, Y\n",
        "# Notice then, that Z is an array of dimension (250,500), for every (x, y) coordinate\n",
        "Z = np.sign(np.cos(X*Y*2))\n",
        "dimz = Z.shape\n",
        "print(f'Dimensions of Z array: {dimz}')\n",
        "\n",
        "# The line below plots contour the lines defined by Z.\n",
        "# The levels keyword argument allows you to manually define the cutoffs between contours\n",
        "# that are colored differently.  Here we create cutoffs so that values less than -1.1 are\n",
        "# defined as the first contour, values in between -1.1 and -.9 define the second contour, and so on\n",
        "cs = ax.contourf(X, Y, Z,levels = [-1.1,-.9, .9,1.1])\n",
        "  \n",
        "# We then set our titles and axes labels\n",
        "ax.set_title('Contour Plot')\n",
        "ax.set_xlabel('v0')\n",
        "ax.set_ylabel('w0')\n",
        "\n",
        "# This final bit of code allows us to create a legend\n",
        "# This line is simply building a list using list comprehension (see above) which creates a\n",
        "# rectangle of each unique color in the contour plot.  We then add these rectangles to the\n",
        "# legend, with a manual labeling of each rectangle.  Note that there are three colors since \n",
        "# there are three contours, the \"0\" contour is for the case when the coin lands perfectly\n",
        "# on its side\n",
        "proxy = [plt.Rectangle((0,0),1,1,fc = pc.get_facecolor()[0]) \n",
        "    for pc in cs.collections];\n",
        "plt.legend(proxy, [\"T\", \"0\", \"H\"])  \n",
        "plt.show()"
      ],
      "metadata": {
        "colab": {
          "base_uri": "https://localhost:8080/",
          "height": 438
        },
        "id": "b6LZjct2Ulh-",
        "outputId": "03d1fee2-f7a4-4f91-b3ba-e041fd5fb10a"
      },
      "execution_count": 9,
      "outputs": [
        {
          "output_type": "stream",
          "name": "stdout",
          "text": [
            "Dimensions of v0 array: (500,)\n",
            "Dimensions of w0 array: (250,)\n",
            "A shape tuple (r, c) means we have r rows and c columns in our array\n",
            "If there is no value for c, then it means we have a 1-dimensional array with r entries\n",
            "\n",
            "Dimensions of X array: (250, 500)\n",
            "Dimensions of Y array: (250, 500)\n",
            "Dimensions of Z array: (250, 500)\n"
          ]
        },
        {
          "output_type": "display_data",
          "data": {
            "text/plain": [
              "<Figure size 432x288 with 1 Axes>"
            ],
            "image/png": "[encoded data removed]"
          },
          "metadata": {
            "needs_background": "light"
          }
        }
      ]
    },
    {
      "cell_type": "markdown",
      "source": [
        "# Exporting your work"
      ],
      "metadata": {
        "id": "5j8bwMc6erZr"
      }
    },
    {
      "cell_type": "markdown",
      "source": [
        "For this course, we ask that you turn in all of your work as a .pdf file.\n",
        "There are a few ways to do this using Google Colab."
      ],
      "metadata": {
        "id": "f4fdcAhAwHrf"
      }
    },
    {
      "cell_type": "markdown",
      "source": [
        "## Method 1"
      ],
      "metadata": {
        "id": "FX4bdXjrfHs3"
      }
    },
    {
      "cell_type": "markdown",
      "source": [
        "The first way to do this is manually by following these instructions:\n",
        "\n",
        "1.   Go to File > Print\n",
        "2.   Select Save as PDF\n",
        "\n",
        "This method saves a printout of all of your code as well as your text boxes, with their outputs displayed.  However, this isn't perfect as you can see by 'exportMethod1.pdf' in this directory.  Some of the plots overlap with some of the text.  In order to fix this, you can manually save the images and display them instead of just using console output. However, this is difficult and time consuming and we suggest you just use Method 2.\n",
        "\n"
      ],
      "metadata": {
        "id": "4AOuE-bvfCvb"
      }
    },
    {
      "cell_type": "markdown",
      "source": [
        "## Method 2"
      ],
      "metadata": {
        "id": "XeIDbQf_gQhv"
      }
    },
    {
      "cell_type": "markdown",
      "source": [
        "Another way to do this is by adding the following cells of code to your notebook. However, it is extremely **IMPORTANT** that you have deleted your runtime and have run all of your cells **PRIOR** to running this cell!  It is recommended to place this at the end of your notebook.  For the sake of ease, you can comment out the entire code block as well."
      ],
      "metadata": {
        "id": "H6WRYVhAgTW5"
      }
    },
    {
      "cell_type": "markdown",
      "source": [
        "Here are the step-by-step instructions on how to use Method 2 to convert your colab file to a pdf:\n",
        "\n",
        "1. Go to Runtime > Disconnect and delete runtime.\n",
        "2. Making sure that the cell below is commented out, go to Runtime > Run all.\n",
        "3. Uncomment the below cell and run. This will spawn a box on your screen asking you to give permission to access your Google Drive.  Make sure to log in and allow access.  The tab should automatically close when verified.\n",
        "4. Wait up to ~2 minutes, download the pdf file once it pops up in the left file pane (note that sometimes there is a delay of longer than 2 min, try rerunning the cell a few times if you have been waiting for more than 2 min).\n",
        "5. Make sure to check that the contents are as desired."
      ],
      "metadata": {
        "id": "xMrRXcnpzBLJ"
      }
    },
    {
      "cell_type": "code",
      "source": [
        "# # This first line hides all of the output to your notebook,\n",
        "# # you can remove it if you are curious as to what goes on behind the scenes\n",
        "# %%capture\n",
        "\n",
        "# # This next line clones the nbconvert repositiory from git, which \n",
        "# # was created to help make converting colab notebooks into pdfs and other formats\n",
        "# # easier.  For more documentation, click on the link below\n",
        "# !git clone https://github.com/jupyter/nbconvert.git\n",
        "\n",
        "# # This navigates to the nbconvert directory of the repository\n",
        "# !cd nbconvert\n",
        "\n",
        "# # This line installs all of the dependencies for the repository to your VM\n",
        "# !pip install -e .\n",
        "\n",
        "# # This line installs the pandoc library (https://pandoc.org/)\n",
        "# !apt-get install pandoc\n",
        "\n",
        "# # And all of these lines install the inkscape library (https://inkscape.org/)\n",
        "# !apt-get update\n",
        "# !apt-get install inkscape\n",
        "# !add-apt-repository universe\n",
        "# !add-apt-repository ppa:inkscape.dev/stable - b\n",
        "# !apt-get update\n",
        "# !apt install inkscape\n",
        "\n",
        "# # This line installs the xelatex library and recommended packages (https://www.overleaf.com/learn/latex/XeLaTeX)\n",
        "# !apt-get install texlive-xetex texlive-fonts-recommended texlive-generic-recommended\n",
        "\n",
        "# # When running this code it asks for permissions.  You must login to your google account and \n",
        "# # allow colab to access your drive.\n",
        "# from google.colab import drive \n",
        "# drive.mount(\"/content/drive\")\n",
        "# !cp \"./drive/MyDrive/Colab Notebooks/Bi195PythonIntro.ipynb\" ./\n",
        "\n",
        "# # This final line converts the file to a pdf\n",
        "# # Note that the format of this line is !jupyter nbconvert --to <format> 'NotebookName.ipynb'\n",
        "# !jupyter nbconvert --to pdf 'Bi195PythonIntro.ipynb'\n",
        "\n",
        "# # Once this cell has completed running, the pdf file should be ready to download in the left file pane\n",
        "# # It can sometimes take a few minutes until the pdf file shows up "
      ],
      "metadata": {
        "id": "KVsdI9k_mGdA"
      },
      "execution_count": 10,
      "outputs": []
    },
    {
      "cell_type": "markdown",
      "source": [
        "We highly recommend deleting the files that are created in the last cell, in order to more easily keep track of version. They will be automatically deleted when you disconnect from the runtime. These are \"Bi195PythonIntro.ipynb\" and \"Bi195PythonIntro.pdf\" for this case."
      ],
      "metadata": {
        "id": "k5-BJX1RyXYJ"
      }
    },
    {
      "cell_type": "markdown",
      "source": [
        "## Method 3"
      ],
      "metadata": {
        "id": "NVpHMFwT0Wfa"
      }
    },
    {
      "cell_type": "markdown",
      "source": [
        "This method also exports your work as a pdf, and uses much less code.  This one has proven less consistent for me than Method 2, but for others this method is more consistent. Just choose whichever makes things easiest (and works) for you!"
      ],
      "metadata": {
        "id": "apkXcR0U00EG"
      }
    },
    {
      "cell_type": "code",
      "source": [
        "# For more details refer to https://github.com/brpy/colab-pdf\n",
        "# %%capture\n",
        "# !wget -nc https://raw.githubusercontent.com/brpy/colab-pdf/master/colab_pdf.py\n",
        "# from colab_pdf import colab_pdf\n",
        "# colab_pdf('Bi195PythonIntro.ipynb')"
      ],
      "metadata": {
        "id": "TlutRLq-0vLW"
      },
      "execution_count": 1,
      "outputs": []
    },
    {
      "cell_type": "markdown",
      "source": [
        "## Sharing"
      ],
      "metadata": {
        "id": "-O6RkTMfrnGi"
      }
    },
    {
      "cell_type": "markdown",
      "source": [
        "You can also share your work by clicking on the Share button in the top right corner, and adding the invitee's email.\n",
        "\n"
      ],
      "metadata": {
        "id": "gwcubcGLh2BO"
      }
    }
  ]
}